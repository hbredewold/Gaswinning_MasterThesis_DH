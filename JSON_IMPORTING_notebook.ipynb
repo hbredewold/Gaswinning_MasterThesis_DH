{
 "cells": [
  {
   "cell_type": "markdown",
   "id": "a7712157",
   "metadata": {},
   "source": [
    "# The JSON Import notebook"
   ]
  },
  {
   "cell_type": "markdown",
   "id": "3152f03b",
   "metadata": {},
   "source": [
    "The original data provided by the project's previous student were 10 files containing the tweets from the periods 2012-2013 to 2021-2022. To make the data analysis easier, this notebook reads all 10 of those .txt files with JSON content and adds it to one big complete dataframe, and then saves it as a feather file to further use in the other notebooks.\n",
    "\n",
    "#### Disclaimer 1: To make sure no personal data is shown, screen names or tweet content are never displayed in this notebook\n",
    "#### Disclaimer 2: This notebook has no output, since this was run on the RUG LWP computer at the beginning to extract the data, but is now on the Habrok server where the original .txt files are not present so it cannot be run again. This notebook is just for showing how the data has been extracted and put into a dataframe"
   ]
  },
  {
   "cell_type": "markdown",
   "id": "aa3799f8",
   "metadata": {},
   "source": [
    "Libraries needed:"
   ]
  },
  {
   "cell_type": "code",
   "execution_count": null,
   "id": "5bd80793",
   "metadata": {},
   "outputs": [],
   "source": [
    "# !pip install pyarrow pandas\n",
    "# Uncomment and install the libraries if not already"
   ]
  },
  {
   "cell_type": "code",
   "execution_count": null,
   "id": "158d8452",
   "metadata": {},
   "outputs": [],
   "source": [
    "import pandas as pd # Used for data manipulation and analysis\n",
    "import json # Used to import the JSON files in the json .txt files\n",
    "import glob # Used ot look up files"
   ]
  },
  {
   "cell_type": "markdown",
   "id": "b98490bc",
   "metadata": {},
   "source": [
    "### Reading the files and creating a dataframe to save"
   ]
  },
  {
   "cell_type": "code",
   "execution_count": null,
   "id": "d52c4140",
   "metadata": {},
   "outputs": [],
   "source": [
    "# Create an empty list that takes the data\n",
    "data_list = []\n",
    "\n",
    "# Specify where the .txt files are stored\n",
    "file_list = glob.glob('/home/s4029763/TweetData/TwitterGEDv2/*.txt')\n",
    "\n",
    "\n",
    "for file in file_list:\n",
    "    with open(file, 'r', encoding='utf-8') as f:\n",
    "        # Read all lines from the file\n",
    "        for line in f:\n",
    "            try:\n",
    "                # Load each lines as json\n",
    "                data = json.loads(line.strip())\n",
    "                # Add the lines to the data_list\n",
    "                data_list.append(data)\n",
    "            # give an error if it doesnt work\n",
    "            except json.JSONDecodeError:\n",
    "                print(f\"Error decoding JSON in file {file} on line: {line}\")\n",
    "\n",
    "# Turn the json list into a normalized dataframe\n",
    "groningen_complete = pd.json_normalize(data_list)"
   ]
  },
  {
   "cell_type": "code",
   "execution_count": null,
   "id": "0ed811d6",
   "metadata": {},
   "outputs": [],
   "source": [
    "groningen_complete.info()"
   ]
  },
  {
   "cell_type": "code",
   "execution_count": 21,
   "id": "3a31720f-1840-4e92-a8e7-cbe26dba951e",
   "metadata": {
    "scrolled": true
   },
   "outputs": [],
   "source": [
    "# Save it as a feather file\n",
    "groningen_complete.to_feather(\"/home/s4029763/Final Folder/gaswinning_tweets_compleet.feather\")"
   ]
  }
 ],
 "metadata": {
  "kernelspec": {
   "display_name": "Python 3 (ipykernel)",
   "language": "python",
   "name": "python3"
  },
  "language_info": {
   "codemirror_mode": {
    "name": "ipython",
    "version": 3
   },
   "file_extension": ".py",
   "mimetype": "text/x-python",
   "name": "python",
   "nbconvert_exporter": "python",
   "pygments_lexer": "ipython3",
   "version": "3.10.4"
  }
 },
 "nbformat": 4,
 "nbformat_minor": 5
}
