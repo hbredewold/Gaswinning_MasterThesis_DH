{
 "cells": [
  {
   "cell_type": "markdown",
   "id": "cd3a77e8",
   "metadata": {
    "scrolled": false
   },
   "source": [
    "# The Bot Importing and Sorting notebook\n",
    "\n",
    "This notebook is fairly straight forward. We import the bot accounts with a overall raw bot score of 0.5 or higher, put it into a list and filter the list by removing accounts I have manually checked and thought were not bots, as explained in the thesis"
   ]
  },
  {
   "cell_type": "markdown",
   "id": "5acb26ba",
   "metadata": {},
   "source": [
    "Libraries needed:"
   ]
  },
  {
   "cell_type": "code",
   "execution_count": null,
   "id": "ab30f317",
   "metadata": {},
   "outputs": [],
   "source": [
    "import json\n",
    "import pandas as pd"
   ]
  },
  {
   "cell_type": "markdown",
   "id": "f790cf63",
   "metadata": {},
   "source": [
    "### Import the bots from the .txt file and extract only the ones with a overall raw bot score of 0.5 or higher"
   ]
  },
  {
   "cell_type": "code",
   "execution_count": 4,
   "id": "1a7b3b28",
   "metadata": {},
   "outputs": [],
   "source": [
    "# Open the JSON file for reading\n",
    "with open(\"all_user_ids_botometer.txt\", \"r\") as file:\n",
    "    # Create a list where we can store the data of the accounts with the bot score\n",
    "    accounts_with_high_raw_score = []\n",
    "\n",
    "    # Go through every line in the file\n",
    "    for line in file:\n",
    "        # Make sure to load all the data in the lines as JSON data\n",
    "        data = json.loads(line)\n",
    "\n",
    "        # Go through the keys in the JSON line\n",
    "        for user_id, user_data in data.items():\n",
    "            # Check if the current user has a raw score and extract data if the score is 0.5 or more\n",
    "            if \"raw_scores\" in user_data and \"universal\" in user_data[\"raw_scores\"]:\n",
    "                raw_score_overall = user_data[\"raw_scores\"][\"universal\"][\"overall\"]\n",
    "                if raw_score_overall >= 0.5:  \n",
    "                    screen_name = user_data[\"user\"][\"user_data\"][\"screen_name\"]\n",
    "                    # take this data and add it to the original accounts_with_high_raw_score list\n",
    "                    accounts_with_high_raw_score.append({\n",
    "                        \"user_id\": user_id,\n",
    "                        \"screen_name\": screen_name,\n",
    "                        \"overall_raw_score\": raw_score_overall\n",
    "                    })\n",
    "\n",
    "# Turn the list to a Dataframe\n",
    "bots = pd.DataFrame(accounts_with_high_raw_score)"
   ]
  },
  {
   "cell_type": "code",
   "execution_count": 6,
   "id": "94b22922",
   "metadata": {},
   "outputs": [],
   "source": [
    "# Make sure the user_id column in bots is an integer just like user.id in the big file\n",
    "bots[\"user_id\"] = bots[\"user_id\"].astype(int)"
   ]
  },
  {
   "cell_type": "markdown",
   "id": "02b255a5",
   "metadata": {},
   "source": [
    "### Remove not_bots from the bots list"
   ]
  },
  {
   "cell_type": "code",
   "execution_count": 7,
   "id": "e1d91f0f",
   "metadata": {},
   "outputs": [],
   "source": [
    "# Open the .txt file with accounts that were in the bot list but were deemed not to be bots\n",
    "with open('not_bots.txt', 'r') as file:\n",
    "    not_bots = [line.strip() for line in file]"
   ]
  },
  {
   "cell_type": "code",
   "execution_count": 8,
   "id": "c993958f",
   "metadata": {},
   "outputs": [
    {
     "data": {
      "text/plain": [
       "519"
      ]
     },
     "execution_count": 8,
     "metadata": {},
     "output_type": "execute_result"
    }
   ],
   "source": [
    "# Check how many bots were in the not_bots list\n",
    "len(not_bots)"
   ]
  },
  {
   "cell_type": "code",
   "execution_count": 9,
   "id": "a9845da6",
   "metadata": {},
   "outputs": [],
   "source": [
    "# Import the gaswinning_tweets_complete file. \n",
    "groningen_complete = pd.read_feather(\"gaswinning_tweets_compleet.feather\")\n",
    "\n",
    "# Take only user.id and user.screen_name\n",
    "user_ids = groningen_complete[[\"user.id\", \"user.screen_name\"]]"
   ]
  },
  {
   "cell_type": "markdown",
   "id": "26945125",
   "metadata": {},
   "source": [
    "To ensure that all accounts identified as not bots are removed, we cross-reference the list of not_bot screen_names with the gaswinning dataset based on user IDs. However, some screen names in the not_bot list may not exist in their original form in the tweet dataset due to changes in user names over time. \n",
    "\n",
    "Therefore, we also remove any accounts from the bot_list that match these screen names, ensuring comprehensive deletion of identified not_bots. This approach accounts for potential username changes over time, which may not be reflected in the bot list derived from Botometer's 2022 data."
   ]
  },
  {
   "cell_type": "code",
   "execution_count": 10,
   "id": "e964930c",
   "metadata": {
    "scrolled": true
   },
   "outputs": [
    {
     "name": "stderr",
     "output_type": "stream",
     "text": [
      "/tmp/ipykernel_4032850/3320415566.py:2: SettingWithCopyWarning: \n",
      "A value is trying to be set on a copy of a slice from a DataFrame.\n",
      "Try using .loc[row_indexer,col_indexer] = value instead\n",
      "\n",
      "See the caveats in the documentation: https://pandas.pydata.org/pandas-docs/stable/user_guide/indexing.html#returning-a-view-versus-a-copy\n",
      "  user_ids['screen_name_lower'] = user_ids['user.screen_name'].str.lower()\n"
     ]
    }
   ],
   "source": [
    "# make both column lowercase to make sure they are the same\n",
    "user_ids['screen_name_lower'] = user_ids['user.screen_name'].str.lower()\n",
    "not_bots_lower = [name.lower() for name in not_bots]\n",
    "\n",
    "# Find  user_ids in the original dataframe that belong to the screen_names in not_bots\n",
    "related_user_ids = user_ids[user_ids['screen_name_lower'].isin(not_bots_lower)][['user.id']]\n",
    "\n",
    "related_user_ids = related_user_ids['user.id']\n",
    "\n",
    "# Turn it into a list\n",
    "related_user_ids_list = related_user_ids.tolist()\n",
    "\n",
    "# Apply filtering\n",
    "bots = bots[~bots['user_id'].isin(related_user_ids_list)]"
   ]
  },
  {
   "cell_type": "code",
   "execution_count": 11,
   "id": "5d2c0838",
   "metadata": {
    "scrolled": false
   },
   "outputs": [
    {
     "name": "stdout",
     "output_type": "stream",
     "text": [
      "<class 'pandas.core.frame.DataFrame'>\n",
      "Index: 2103 entries, 0 to 2434\n",
      "Data columns (total 3 columns):\n",
      " #   Column             Non-Null Count  Dtype  \n",
      "---  ------             --------------  -----  \n",
      " 0   user_id            2103 non-null   int64  \n",
      " 1   screen_name        2103 non-null   object \n",
      " 2   overall_raw_score  2103 non-null   float64\n",
      "dtypes: float64(1), int64(1), object(1)\n",
      "memory usage: 65.7+ KB\n"
     ]
    }
   ],
   "source": [
    "bots.info()"
   ]
  },
  {
   "cell_type": "markdown",
   "id": "f04f5e80",
   "metadata": {},
   "source": [
    "### Save it to the final bot_accounts file used to filter the bots in the dataset"
   ]
  },
  {
   "cell_type": "code",
   "execution_count": 12,
   "id": "04bb16bc",
   "metadata": {},
   "outputs": [],
   "source": [
    "bots.to_feather(\"bot_accounts.feather\")"
   ]
  }
 ],
 "metadata": {
  "kernelspec": {
   "display_name": "Python 3 (ipykernel)",
   "language": "python",
   "name": "python3"
  },
  "language_info": {
   "codemirror_mode": {
    "name": "ipython",
    "version": 3
   },
   "file_extension": ".py",
   "mimetype": "text/x-python",
   "name": "python",
   "nbconvert_exporter": "python",
   "pygments_lexer": "ipython3",
   "version": "3.10.4"
  }
 },
 "nbformat": 4,
 "nbformat_minor": 5
}
